{
  "nbformat": 4,
  "nbformat_minor": 0,
  "metadata": {
    "colab": {
      "name": "LL1_parser.ipynb",
      "version": "0.3.2",
      "provenance": [],
      "collapsed_sections": []
    },
    "kernelspec": {
      "name": "python3",
      "display_name": "Python 3"
    }
  },
  "cells": [
    {
      "metadata": {
        "id": "I_2HANRb6Hy0",
        "colab_type": "code",
        "outputId": "5354ac78-2116-4b84-845d-ddf2a8a2fa0a",
        "colab": {
          "base_uri": "https://localhost:8080/",
          "height": 35
        }
      },
      "cell_type": "code",
      "source": [
        "from google.colab import drive\n",
        "drive.mount(\"/gdrive\",force_remount=True)"
      ],
      "execution_count": 0,
      "outputs": [
        {
          "output_type": "stream",
          "text": [
            "Mounted at /gdrive\n"
          ],
          "name": "stdout"
        }
      ]
    },
    {
      "metadata": {
        "id": "sJtNuwF7NyCO",
        "colab_type": "code",
        "outputId": "a8dd3727-18a9-4340-ce4c-fd6629cf562d",
        "colab": {
          "base_uri": "https://localhost:8080/",
          "height": 35
        }
      },
      "cell_type": "code",
      "source": [
        "%cd \"/gdrive/My Drive/Compiler Design/CD-py\""
      ],
      "execution_count": 0,
      "outputs": [
        {
          "output_type": "stream",
          "text": [
            "/gdrive/My Drive/Compiler Design/CD-py\n"
          ],
          "name": "stdout"
        }
      ]
    },
    {
      "metadata": {
        "id": "b_Xdy7IePku0",
        "colab_type": "code",
        "colab": {}
      },
      "cell_type": "code",
      "source": [
        "from left_recursion import removeLeftRecursion,printGrammar\n",
        "from first_follow import first,follow"
      ],
      "execution_count": 0,
      "outputs": []
    },
    {
      "metadata": {
        "id": "vlJUkZP-iXco",
        "colab_type": "code",
        "colab": {}
      },
      "cell_type": "code",
      "source": [
        "def add_production(key,production,table):\n",
        "    if key in table.keys():\n",
        "        print(\"Error: Grammar is not LL1\")\n",
        "        exit()\n",
        "    else:\n",
        "        table[key] = production\n"
      ],
      "execution_count": 0,
      "outputs": []
    },
    {
      "metadata": {
        "id": "fCyy-CdQizvu",
        "colab_type": "code",
        "colab": {}
      },
      "cell_type": "code",
      "source": [
        "def first_of_rhs(p,G):\n",
        "    first = set()\n",
        "    for char in p:\n",
        "        if char in G[\"terminals\"]:\n",
        "            first.add(char)\n",
        "            break\n",
        "        elif char in G[\"symbols\"]:\n",
        "            f_char = first(char,G)\n",
        "            first = first.union(f_char)\n",
        "            if 'E' not in f_char:\n",
        "                break\n",
        "            else:\n",
        "                if char != p[-1]:\n",
        "                    first-=set('E') \n",
        "        elif char == 'E':#epsilon\n",
        "            if char == p[-1]:\n",
        "                first.add('E')\n",
        "    return first\n",
        "    "
      ],
      "execution_count": 0,
      "outputs": []
    },
    {
      "metadata": {
        "id": "-iTwyx_1ZXgH",
        "colab_type": "code",
        "colab": {}
      },
      "cell_type": "code",
      "source": [
        "def generateParserTable(G):\n",
        "    table = {} # key is a tuple - (symbol,terminal) value = production(list of string)\n",
        "    for symbol,production in G[\"productions\"].items():\n",
        "        for p in production:\n",
        "            first = first_of_rhs(p,G)\n",
        "            for char in first:\n",
        "                if char == \"E\": #epsilon\n",
        "                    fol = follow(symbol,G)\n",
        "                    for f in fol:\n",
        "                        add_production((symbol,f),p,table)\n",
        "                else:\n",
        "                    add_production((symbol,char),p,table)\n",
        "    return table"
      ],
      "execution_count": 0,
      "outputs": []
    },
    {
      "metadata": {
        "id": "ANa1--Fyl2Sx",
        "colab_type": "code",
        "colab": {}
      },
      "cell_type": "code",
      "source": [
        "def error(string):\n",
        "    print(f\"{string} cannot be generated from given grammar\")\n",
        "    #exit()\n",
        "    \n",
        "def LL1parser(G,string):\n",
        "    G = leftFactoring(G) #removing left recurssion if any\n",
        "    table = generateParserTable(G)    \n",
        "    string = string + '$'\n",
        "    stack = ['$','S']\n",
        "    cur = 0\n",
        "    while(cur<len(string)):\n",
        "        top = stack[-1]\n",
        "        if top in G[\"symbols\"]:\n",
        "            if (top,string[cur]) in table.keys():\n",
        "                prod = table[(top,string[cur])]\n",
        "                if prod[0] == 'E':\n",
        "                    stack = stack[:-1]\n",
        "                else:\n",
        "                    stack = stack[:-1] + prod[-1::-1] #popping and pushing prod on stack\n",
        "            else:\n",
        "                error(string)\n",
        "                break\n",
        "        elif top in G[\"terminals\"]:\n",
        "            if top == string[cur]:\n",
        "                stack = stack[:-1] #pop \n",
        "                cur+=1\n",
        "            else:\n",
        "                error(string)\n",
        "                break                \n",
        "        else:\n",
        "            if top == string[cur] == '$':\n",
        "                print(\"string accepted\")\n",
        "                break\n",
        "            else:\n",
        "                error(string)\n",
        "                break\n",
        "            "
      ],
      "execution_count": 0,
      "outputs": []
    },
    {
      "metadata": {
        "id": "0iCDubzFzHog",
        "colab_type": "code",
        "colab": {}
      },
      "cell_type": "code",
      "source": [
        "G = {\n",
        "    \"start\":'S',\n",
        "    \"terminals\":set(['(',')']),\n",
        "    \"symbols\":set([\"S\"]),\n",
        "    \"productions\":{\n",
        "        \"S\":[['(','S',')'],['E']]\n",
        "    }\n",
        "}\n"
      ],
      "execution_count": 0,
      "outputs": []
    },
    {
      "metadata": {
        "id": "I4Uo3ZGl0c-G",
        "colab_type": "code",
        "outputId": "837e9bf7-fccc-4321-94cc-64f4c80a7668",
        "colab": {
          "base_uri": "https://localhost:8080/",
          "height": 35
        }
      },
      "cell_type": "code",
      "source": [
        "LL1parser(G,\"(((()))))\")"
      ],
      "execution_count": 0,
      "outputs": [
        {
          "output_type": "stream",
          "text": [
            "(((()))))$ cannot be generated from given grammar\n"
          ],
          "name": "stdout"
        }
      ]
    },
    {
      "metadata": {
        "id": "FMrFdVQF1F6N",
        "colab_type": "code",
        "outputId": "8fe43fa2-e356-473f-dbd6-6e6d112fc034",
        "colab": {
          "base_uri": "https://localhost:8080/",
          "height": 35
        }
      },
      "cell_type": "code",
      "source": [
        "LL1parser(G,\"(((())))\")"
      ],
      "execution_count": 0,
      "outputs": [
        {
          "output_type": "stream",
          "text": [
            "string accepted\n"
          ],
          "name": "stdout"
        }
      ]
    }
  ]
}