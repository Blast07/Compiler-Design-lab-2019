{
  "nbformat": 4,
  "nbformat_minor": 0,
  "metadata": {
    "colab": {
      "name": "UE163063_left_factoring",
      "version": "0.3.2",
      "provenance": [],
      "collapsed_sections": []
    },
    "kernelspec": {
      "name": "python3",
      "display_name": "Python 3"
    }
  },
  "cells": [
    {
      "metadata": {
        "id": "AY4-q2wpxt_-",
        "colab_type": "code",
        "colab": {}
      },
      "cell_type": "code",
      "source": [
        "def printGrammar(G):\n",
        "    for k,v in G.items():\n",
        "        if k==\"productions\":\n",
        "            print(\"Productions:\")\n",
        "            for symbol,production in G[k].items():\n",
        "                print(*[f\"{symbol}: {''.join(p)}\" for p in production],sep='\\n')\n",
        "        else:\n",
        "            print(f\"{k}: {v}\")"
      ],
      "execution_count": 0,
      "outputs": []
    },
    {
      "metadata": {
        "id": "14ydiH_jUOSw",
        "colab_type": "code",
        "colab": {}
      },
      "cell_type": "code",
      "source": [
        "\n",
        "def add_new_productions(symbol,remaining_i,remaining_j,new_productions):\n",
        "    new_productions[symbol] = []\n",
        "    if len(remaining_i)==0:\n",
        "        #add E (epsilon transition)\n",
        "        new_productions[symbol].append(['E'])\n",
        "        new_productions[symbol].append(remaining_j)\n",
        "    elif len(remaining_j)==0:\n",
        "        #add E (epsilon transition)\n",
        "        new_productions[symbol].append(['E'])\n",
        "        new_productions[symbol].append(remaining_i)\n",
        "    else:        \n",
        "        new_productions[symbol].append(remaining_i)\n",
        "        new_productions[symbol].append(remaining_j)\n",
        "\n",
        "def commonPrefix(prod1,prod2):\n",
        "    i = 0\n",
        "    m = min(len(prod1),len(prod2))\n",
        "    while i < m:\n",
        "        if prod1[i] !=prod2[i]:\n",
        "            break\n",
        "        i+=1\n",
        "    i = i-1\n",
        "    if i < 0 :return None\n",
        "    else :return i\n",
        "\n",
        "def leftFactoring(G):\n",
        "    new_productions = {}\n",
        "    new_symbols = set()\n",
        "    for symbol in G[\"productions\"].keys():\n",
        "        count=1\n",
        "        prod = G[\"productions\"][symbol][:]\n",
        "        if len(prod)>1:\n",
        "            while (1):\n",
        "                change = 0\n",
        "                for i in range(len(prod)-1):\n",
        "                    for j in range(i+1,len(prod)):\n",
        "                        prod1,prod2 = prod[i],prod[j]\n",
        "                        ind = commonPrefix(prod1,prod2)                        \n",
        "                        if ind is not None:\n",
        "                            common_part = prod1[:ind+1]\n",
        "                            remaining_1 = prod1[ind+1:]\n",
        "                            remaining_2 = prod2[ind+1:]\n",
        "                            \n",
        "                            new_symbol = f\"{symbol}{count}\" #S1,S2 etc..\n",
        "                            new_symbols.add(new_symbol)\n",
        "                            prod.remove(prod1)\n",
        "                            prod.remove(prod2)\n",
        "                            prod.append(common_part+[new_symbol])\n",
        "                            \n",
        "                            add_new_productions(new_symbol,remaining_1,remaining_2,new_productions)\n",
        "                            count+=1\n",
        "                            change=1\n",
        "                            break\n",
        "                if change==0:\n",
        "                    break\n",
        "        G[\"productions\"][symbol] = prod[:]\n",
        "    \n",
        "    G[\"productions\"] = {**G[\"productions\"],**new_productions}\n",
        "    G[\"symbols\"] = G[\"symbols\"].union(new_symbols)\n",
        "    return G\n",
        " "
      ],
      "execution_count": 0,
      "outputs": []
    },
    {
      "metadata": {
        "id": "OXiiuYz7q9ZS",
        "colab_type": "code",
        "colab": {
          "base_uri": "https://localhost:8080/",
          "height": 187
        },
        "outputId": "4191cce2-93aa-4917-e032-4406de84f690"
      },
      "cell_type": "code",
      "source": [
        "G = {\n",
        "    \"start\":'S',\n",
        "    \"terminals\":set(['a','b']),\n",
        "    \"symbols\":set([\"S\"]),\n",
        "    \"productions\":{\n",
        "        \"S\":[['a','S','S','b','S'],['a','S','a','S','b'],['a','b','b'],['b']]\n",
        "    }\n",
        "}\n",
        "G = leftFactoring(G)\n",
        "printGrammar(G)"
      ],
      "execution_count": 3,
      "outputs": [
        {
          "output_type": "stream",
          "text": [
            "start: S\n",
            "terminals: {'a', 'b'}\n",
            "symbols: {'S2', 'S', 'S1'}\n",
            "Productions:\n",
            "S: b\n",
            "S: aS2\n",
            "S1: SbS\n",
            "S1: aSb\n",
            "S2: bb\n",
            "S2: SS1\n"
          ],
          "name": "stdout"
        }
      ]
    },
    {
      "metadata": {
        "id": "ZxqaMBe7rrTa",
        "colab_type": "code",
        "colab": {
          "base_uri": "https://localhost:8080/",
          "height": 187
        },
        "outputId": "54b69a42-6cbb-40bb-aea0-b547eb600919"
      },
      "cell_type": "code",
      "source": [
        "G = {\n",
        "    \"start\":'S',\n",
        "    \"terminals\":set(['a','b']),\n",
        "    \"symbols\":set([\"S\"]),\n",
        "    \"productions\":{\n",
        "        \"S\":[['b','S','S','a','a','S'],['b','S','S','a','S','b'],['b','S','b'],['a']]\n",
        "    }\n",
        "}\n",
        "G = leftFactoring(G)\n",
        "printGrammar(G)"
      ],
      "execution_count": 4,
      "outputs": [
        {
          "output_type": "stream",
          "text": [
            "start: S\n",
            "terminals: {'a', 'b'}\n",
            "symbols: {'S2', 'S', 'S1'}\n",
            "Productions:\n",
            "S: a\n",
            "S: bSS2\n",
            "S1: aS\n",
            "S1: Sb\n",
            "S2: b\n",
            "S2: SaS1\n"
          ],
          "name": "stdout"
        }
      ]
    }
  ]
}